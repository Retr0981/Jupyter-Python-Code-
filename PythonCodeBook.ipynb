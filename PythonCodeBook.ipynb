{
 "cells": [
  {
   "cell_type": "code",
   "execution_count": 1,
   "id": "906ed2cf-98ae-40c4-8dc7-63e978e9c62f",
   "metadata": {},
   "outputs": [
    {
     "name": "stdout",
     "output_type": "stream",
     "text": [
      "Hello world!\n"
     ]
    }
   ],
   "source": [
    "print(\"Hello world!\")\n"
   ]
  },
  {
   "cell_type": "markdown",
   "id": "e9c127a4-f98c-47dd-b53d-3d724f8e4c00",
   "metadata": {},
   "source": [
    "# First Notebook"
   ]
  },
  {
   "cell_type": "code",
   "execution_count": null,
   "id": "e51418bc-1b2b-44ca-af58-02ae803c1724",
   "metadata": {},
   "outputs": [],
   "source": []
  },
  {
   "cell_type": "code",
   "execution_count": null,
   "id": "d21956f9-f2bf-4ad0-b26b-bb18080c2613",
   "metadata": {},
   "outputs": [],
   "source": [
    "#here"
   ]
  },
  {
   "cell_type": "code",
   "execution_count": null,
   "id": "d4a6f296-9fb3-4a44-9e2c-f4bdae91370a",
   "metadata": {},
   "outputs": [],
   "source": [
    "#Here"
   ]
  },
  {
   "cell_type": "code",
   "execution_count": null,
   "id": "b6d90405-8227-45b9-938a-a08b8ce413f4",
   "metadata": {},
   "outputs": [],
   "source": [
    "#here"
   ]
  },
  {
   "cell_type": "code",
   "execution_count": null,
   "id": "18b76e15-c065-40ac-82ac-7aee01e7f77e",
   "metadata": {},
   "outputs": [],
   "source": []
  },
  {
   "cell_type": "code",
   "execution_count": null,
   "id": "9cde7be2-c194-4ffb-b006-fe5d181f26e4",
   "metadata": {},
   "outputs": [],
   "source": []
  },
  {
   "cell_type": "code",
   "execution_count": null,
   "id": "387af7b2-aa19-4af9-9bbf-4fe596d1b763",
   "metadata": {},
   "outputs": [],
   "source": []
  },
  {
   "cell_type": "code",
   "execution_count": null,
   "id": "e98d1e1e-021f-42f3-a5a1-7e9d0e377509",
   "metadata": {},
   "outputs": [],
   "source": []
  },
  {
   "cell_type": "code",
   "execution_count": null,
   "id": "7a9458f7-9e80-42f3-8b22-1ea8a233ccc8",
   "metadata": {},
   "outputs": [],
   "source": []
  },
  {
   "cell_type": "code",
   "execution_count": null,
   "id": "72ddaf7c-f129-4079-9906-1b370cddc818",
   "metadata": {},
   "outputs": [],
   "source": []
  }
 ],
 "metadata": {
  "kernelspec": {
   "display_name": "Python 3 (ipykernel)",
   "language": "python",
   "name": "python3"
  },
  "language_info": {
   "codemirror_mode": {
    "name": "ipython",
    "version": 3
   },
   "file_extension": ".py",
   "mimetype": "text/x-python",
   "name": "python",
   "nbconvert_exporter": "python",
   "pygments_lexer": "ipython3",
   "version": "3.11.7"
  }
 },
 "nbformat": 4,
 "nbformat_minor": 5
}
