{
 "cells": [
  {
   "cell_type": "markdown",
   "id": "b474cc8d-e541-4142-9be9-866291551bf0",
   "metadata": {},
   "source": [
    "# While Loops "
   ]
  },
  {
   "cell_type": "code",
   "execution_count": 3,
   "id": "8dda5e50-2654-44b0-83fc-2006f9642c01",
   "metadata": {},
   "outputs": [
    {
     "name": "stdout",
     "output_type": "stream",
     "text": [
      "0\n",
      "1\n",
      "2\n",
      "3\n",
      "4\n"
     ]
    }
   ],
   "source": [
    "number = 0\n",
    "\n",
    "\n",
    "while number < 5:\n",
    "    print(number)\n",
    "    number = number + 1"
   ]
  },
  {
   "cell_type": "code",
   "execution_count": 1,
   "id": "caad5a3b-7f66-4fdf-8b42-933948738d2c",
   "metadata": {},
   "outputs": [
    {
     "name": "stdout",
     "output_type": "stream",
     "text": [
      "0\n",
      "1\n",
      "2\n",
      "3\n"
     ]
    }
   ],
   "source": [
    "number = 0\n",
    "\n",
    "\n",
    "while number < 5:\n",
    "    print(number)\n",
    "    if number == 3:\n",
    "        break\n",
    "    number = number + 1"
   ]
  },
  {
   "cell_type": "code",
   "execution_count": 2,
   "id": "9c4024f2-c06e-4175-bc6d-179b63ad5929",
   "metadata": {},
   "outputs": [
    {
     "name": "stdout",
     "output_type": "stream",
     "text": [
      "0\n",
      "1\n",
      "2\n",
      "3\n",
      "4\n",
      "No Longer < 5\n"
     ]
    }
   ],
   "source": [
    "number = 0\n",
    "\n",
    "\n",
    "while number < 5:\n",
    "    print(number)\n",
    "    if number == 6:\n",
    "        break\n",
    "    number = number + 1\n",
    "\n",
    "else:\n",
    "    print('No Longer < 5')"
   ]
  },
  {
   "cell_type": "code",
   "execution_count": 3,
   "id": "ee099353-3325-441f-b744-3561095102e0",
   "metadata": {},
   "outputs": [
    {
     "name": "stdout",
     "output_type": "stream",
     "text": [
      "0\n",
      "1\n",
      "2\n",
      "3\n"
     ]
    }
   ],
   "source": [
    "number = 0\n",
    "\n",
    "\n",
    "while number < 5:\n",
    "    print(number)\n",
    "    if number == 3:\n",
    "        break\n",
    "    number = number + 1\n",
    "\n",
    "else:\n",
    "    print('No Longer < 5')"
   ]
  },
  {
   "cell_type": "code",
   "execution_count": null,
   "id": "367a1620-5a45-4f08-8f8e-c8ccf266752a",
   "metadata": {},
   "outputs": [],
   "source": [
    "number = 0\n",
    "\n",
    "\n",
    "while number < 5:\n",
    "        number = number + 1\n",
    "    if number == 3:\n",
    "        continue\n",
    "     print(number)\n",
    "else:\n",
    "    print('No Longer < 5')"
   ]
  },
  {
   "cell_type": "code",
   "execution_count": null,
   "id": "2a837841-ac63-4f8f-a058-a323879151e3",
   "metadata": {},
   "outputs": [],
   "source": [
    "number = 0\n",
    "\n",
    "\n",
    "while number < 5:\n",
    "        number = number + 1\n",
    "    if number == 3:\n",
    "        continue\n",
    "     print(number)\n",
    "else:\n",
    "    print('No Longer < 5')"
   ]
  },
  {
   "cell_type": "code",
   "execution_count": null,
   "id": "19c98c12-7967-4a79-b053-c32c9fc29e33",
   "metadata": {},
   "outputs": [],
   "source": []
  },
  {
   "cell_type": "code",
   "execution_count": null,
   "id": "db7c0ef4-22ef-4bb6-ab55-3a23ddc24d9c",
   "metadata": {},
   "outputs": [],
   "source": []
  },
  {
   "cell_type": "code",
   "execution_count": null,
   "id": "ffa345f3-a13c-4e3b-9418-73a30e3afe6b",
   "metadata": {},
   "outputs": [],
   "source": []
  },
  {
   "cell_type": "code",
   "execution_count": null,
   "id": "38fd8f5e-2789-4d90-b49a-f37039411afb",
   "metadata": {},
   "outputs": [],
   "source": []
  },
  {
   "cell_type": "code",
   "execution_count": null,
   "id": "c7fbc064-69ad-46b0-949c-88f4209c0ac4",
   "metadata": {},
   "outputs": [],
   "source": []
  },
  {
   "cell_type": "code",
   "execution_count": null,
   "id": "e75e3332-8cb0-4be8-821d-5c5c082ca3d2",
   "metadata": {},
   "outputs": [],
   "source": []
  },
  {
   "cell_type": "code",
   "execution_count": null,
   "id": "c4a372d5-c872-4550-9b04-1dbe5c84f709",
   "metadata": {},
   "outputs": [],
   "source": []
  },
  {
   "cell_type": "code",
   "execution_count": null,
   "id": "91795c8c-faf8-4796-8311-21cae1ebbcef",
   "metadata": {},
   "outputs": [],
   "source": []
  },
  {
   "cell_type": "code",
   "execution_count": null,
   "id": "cfd77775-b819-44f5-b78f-8d90f8add454",
   "metadata": {},
   "outputs": [],
   "source": []
  },
  {
   "cell_type": "code",
   "execution_count": null,
   "id": "88206a49-7882-49f2-a701-6415030ba8bc",
   "metadata": {},
   "outputs": [],
   "source": []
  },
  {
   "cell_type": "code",
   "execution_count": null,
   "id": "4c7b4778-92c1-4cb0-b6e1-f9649af9b647",
   "metadata": {},
   "outputs": [],
   "source": []
  },
  {
   "cell_type": "code",
   "execution_count": null,
   "id": "3338e958-0ddd-4462-afa1-701bfe1dcbb2",
   "metadata": {},
   "outputs": [],
   "source": []
  }
 ],
 "metadata": {
  "kernelspec": {
   "display_name": "Python 3 (ipykernel)",
   "language": "python",
   "name": "python3"
  },
  "language_info": {
   "codemirror_mode": {
    "name": "ipython",
    "version": 3
   },
   "file_extension": ".py",
   "mimetype": "text/x-python",
   "name": "python",
   "nbconvert_exporter": "python",
   "pygments_lexer": "ipython3",
   "version": "3.11.7"
  }
 },
 "nbformat": 4,
 "nbformat_minor": 5
}
