{
 "cells": [
  {
   "cell_type": "markdown",
   "id": "92a84161-0958-4b92-94a9-2052b2158a18",
   "metadata": {},
   "source": [
    "# For Loops "
   ]
  },
  {
   "cell_type": "code",
   "execution_count": 1,
   "id": "7503bb11-1c3e-4660-bb82-6e9c8e3e39e8",
   "metadata": {},
   "outputs": [],
   "source": [
    "integers = [1,2,3,4,5]"
   ]
  },
  {
   "cell_type": "code",
   "execution_count": 3,
   "id": "b7a0e4ac-c7c2-4af7-8902-0be41d6bfd03",
   "metadata": {},
   "outputs": [
    {
     "name": "stdout",
     "output_type": "stream",
     "text": [
      "1\n",
      "2\n",
      "3\n",
      "4\n",
      "5\n"
     ]
    }
   ],
   "source": [
    "for number in integers:\n",
    "    print(number)"
   ]
  },
  {
   "cell_type": "code",
   "execution_count": 4,
   "id": "7743ddc4-3c4a-423f-90eb-06e998897198",
   "metadata": {},
   "outputs": [
    {
     "name": "stdout",
     "output_type": "stream",
     "text": [
      "yep!\n",
      "yep!\n",
      "yep!\n",
      "yep!\n",
      "yep!\n"
     ]
    }
   ],
   "source": [
    "for number in integers:\n",
    "    print('yep!')"
   ]
  },
  {
   "cell_type": "code",
   "execution_count": 5,
   "id": "93ecee91-e998-4299-af99-23c826f5c99a",
   "metadata": {},
   "outputs": [
    {
     "name": "stdout",
     "output_type": "stream",
     "text": [
      "2\n",
      "4\n",
      "6\n",
      "8\n",
      "10\n"
     ]
    }
   ],
   "source": [
    "for Jelly  in integers:\n",
    "    print(Jelly+ Jelly)"
   ]
  },
  {
   "cell_type": "code",
   "execution_count": 6,
   "id": "984ccf14-5441-47a3-9025-2030b8516a1e",
   "metadata": {},
   "outputs": [],
   "source": [
    "ice_cream_dict = {'name': 'David Nii Armah', 'weekly_intake': 5 , 'favorite ice cream':['MCC', 'Chocolate']}"
   ]
  },
  {
   "cell_type": "code",
   "execution_count": 7,
   "id": "d182233e-1728-41bb-9dc1-c83d72ee6d88",
   "metadata": {},
   "outputs": [
    {
     "name": "stdout",
     "output_type": "stream",
     "text": [
      "David Nii Armah\n",
      "5\n",
      "['MCC', 'Chocolate']\n"
     ]
    }
   ],
   "source": [
    "for cream in ice_cream_dict.values():\n",
    "    print(cream)"
   ]
  },
  {
   "cell_type": "code",
   "execution_count": 10,
   "id": "8aef9898-8845-467b-93e4-faf6888eb1c5",
   "metadata": {},
   "outputs": [
    {
     "name": "stdout",
     "output_type": "stream",
     "text": [
      "name -> David Nii Armah\n",
      "weekly_intake -> 5\n",
      "favorite ice cream -> ['MCC', 'Chocolate']\n"
     ]
    }
   ],
   "source": [
    "for key,value in ice_cream_dict.items():\n",
    "    print(key,'->', value )"
   ]
  },
  {
   "cell_type": "markdown",
   "id": "01ceba17-fb96-4de9-a94c-fa6fe2fb2553",
   "metadata": {},
   "source": [
    "\n",
    "# Nested Loops"
   ]
  },
  {
   "cell_type": "markdown",
   "id": "22f01066-e7a2-44f9-bc99-923043ef6515",
   "metadata": {},
   "source": []
  },
  {
   "cell_type": "code",
   "execution_count": 12,
   "id": "95e779f7-e72c-4b4b-a00e-295d20468384",
   "metadata": {},
   "outputs": [],
   "source": [
    "flavors = ['Vanilla', 'Chocolate',' Cookie Dough']\n",
    "toppings = ['Hot Fudge', 'Oreos', 'Marshmallows']"
   ]
  },
  {
   "cell_type": "code",
   "execution_count": 14,
   "id": "c8ddffb2-71fc-4d47-9d97-f7cb89372335",
   "metadata": {},
   "outputs": [
    {
     "name": "stdout",
     "output_type": "stream",
     "text": [
      "Vanilla topped with Hot Fudge\n",
      "Vanilla topped with Oreos\n",
      "Vanilla topped with Marshmallows\n",
      "Chocolate topped with Hot Fudge\n",
      "Chocolate topped with Oreos\n",
      "Chocolate topped with Marshmallows\n",
      " Cookie Dough topped with Hot Fudge\n",
      " Cookie Dough topped with Oreos\n",
      " Cookie Dough topped with Marshmallows\n"
     ]
    }
   ],
   "source": [
    "for one in flavors:\n",
    "    for two in toppings:\n",
    "        print(one,'topped with',two)"
   ]
  },
  {
   "cell_type": "code",
   "execution_count": null,
   "id": "8d49ba30-84eb-4fe0-88bc-32d6e3446321",
   "metadata": {},
   "outputs": [],
   "source": []
  },
  {
   "cell_type": "code",
   "execution_count": null,
   "id": "c27066f5-99fd-4dc3-a543-9c9a4c3ae1d6",
   "metadata": {},
   "outputs": [],
   "source": []
  },
  {
   "cell_type": "code",
   "execution_count": null,
   "id": "df3b643b-35b3-4941-9b76-c7d773562003",
   "metadata": {},
   "outputs": [],
   "source": []
  },
  {
   "cell_type": "code",
   "execution_count": null,
   "id": "e84f1df2-12e1-4203-85ca-c2a771c3704f",
   "metadata": {},
   "outputs": [],
   "source": []
  },
  {
   "cell_type": "code",
   "execution_count": null,
   "id": "a8aca207-004d-43de-8dd9-1f0bf00db9bf",
   "metadata": {},
   "outputs": [],
   "source": []
  },
  {
   "cell_type": "code",
   "execution_count": null,
   "id": "d91bc0d2-5301-4f67-bc2f-72f424e061a2",
   "metadata": {},
   "outputs": [],
   "source": []
  },
  {
   "cell_type": "code",
   "execution_count": null,
   "id": "8a176c16-a8a2-46c8-89a3-30ea9806eb3a",
   "metadata": {},
   "outputs": [],
   "source": []
  },
  {
   "cell_type": "code",
   "execution_count": null,
   "id": "754476d7-7bc9-4c7b-8feb-18141c962d4b",
   "metadata": {},
   "outputs": [],
   "source": []
  },
  {
   "cell_type": "code",
   "execution_count": null,
   "id": "773c676b-a088-4020-b91a-ce72d24cdff8",
   "metadata": {},
   "outputs": [],
   "source": []
  },
  {
   "cell_type": "code",
   "execution_count": null,
   "id": "0cece7b6-24bc-40cf-a73e-704799c40ade",
   "metadata": {},
   "outputs": [],
   "source": []
  },
  {
   "cell_type": "code",
   "execution_count": null,
   "id": "f16492c1-edac-4fb5-81bf-64216cdebfc4",
   "metadata": {},
   "outputs": [],
   "source": []
  },
  {
   "cell_type": "code",
   "execution_count": null,
   "id": "adc1b272-c4d5-41a8-b5c1-96420e61e3e8",
   "metadata": {},
   "outputs": [],
   "source": []
  },
  {
   "cell_type": "code",
   "execution_count": null,
   "id": "fe6d9623-dafe-4e17-94ff-8c1cd14806ba",
   "metadata": {},
   "outputs": [],
   "source": []
  },
  {
   "cell_type": "code",
   "execution_count": null,
   "id": "d32fa43e-3a45-41c9-ac9d-c2f1e0e794a5",
   "metadata": {},
   "outputs": [],
   "source": []
  },
  {
   "cell_type": "code",
   "execution_count": null,
   "id": "23e4507c-baa0-4741-8be5-d8086cc8eb1e",
   "metadata": {},
   "outputs": [],
   "source": []
  },
  {
   "cell_type": "code",
   "execution_count": null,
   "id": "db5bc8fb-b3b3-4233-ad88-975875ecb713",
   "metadata": {},
   "outputs": [],
   "source": []
  }
 ],
 "metadata": {
  "kernelspec": {
   "display_name": "Python 3 (ipykernel)",
   "language": "python",
   "name": "python3"
  },
  "language_info": {
   "codemirror_mode": {
    "name": "ipython",
    "version": 3
   },
   "file_extension": ".py",
   "mimetype": "text/x-python",
   "name": "python",
   "nbconvert_exporter": "python",
   "pygments_lexer": "ipython3",
   "version": "3.11.7"
  }
 },
 "nbformat": 4,
 "nbformat_minor": 5
}
