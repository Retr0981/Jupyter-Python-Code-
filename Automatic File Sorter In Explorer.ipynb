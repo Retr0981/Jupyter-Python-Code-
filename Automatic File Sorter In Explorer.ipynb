{
 "cells": [
  {
   "cell_type": "markdown",
   "id": "732e5fdf-c209-48f2-92c7-fce3bc8383de",
   "metadata": {},
   "source": [
    "# Automatic File Sorter In Explorer"
   ]
  },
  {
   "cell_type": "code",
   "execution_count": 7,
   "id": "d8e05731-7ef8-4b9e-a93c-4d70fad0c22d",
   "metadata": {},
   "outputs": [],
   "source": [
    "import os, shutil"
   ]
  },
  {
   "cell_type": "code",
   "execution_count": 17,
   "id": "58d7deaf-c2e6-4180-bbf1-3427dfec7df3",
   "metadata": {},
   "outputs": [],
   "source": [
    "path = r\"C:/Users/david/OneDrive/Desktop/PythonTutorials/\""
   ]
  },
  {
   "cell_type": "code",
   "execution_count": 25,
   "id": "3c595817-a932-4302-9f33-e6a08c20bf01",
   "metadata": {},
   "outputs": [],
   "source": [
    "file_name = os.listdir(path)"
   ]
  },
  {
   "cell_type": "code",
   "execution_count": 51,
   "id": "b78cb748-340e-4c3d-9d49-b15c2cdd4089",
   "metadata": {},
   "outputs": [
    {
     "name": "stdout",
     "output_type": "stream",
     "text": [
      "There were files in this path that were not moved\n",
      "There were files in this path that were not moved\n",
      "There were files in this path that were not moved\n",
      "There were files in this path that were not moved\n",
      "There were files in this path that were not moved\n",
      "There were files in this path that were not moved\n"
     ]
    }
   ],
   "source": [
    "folder_names = ['csv files', 'image files',  'text files']\n",
    "\n",
    "for loop in range(0,3):\n",
    "             if  not os.path.exists(path + folder_names[loop]):\n",
    "                  print(path + folder_names[loop])\n",
    "                  os.makedirs(path + folder_names[loop])\n",
    "    \n",
    "\n",
    "\n",
    "for file in file_name:\n",
    "    if \".csv\" in file and not  os.path.exists(path + \"csv files/\"  + file):\n",
    "        shutil.move(path + filepath + \"csv files/\"  + file)\n",
    "    elif \".png\"   in file and not  os.path.exists(path + \"image files/\"  + file): \n",
    "        shutil.move(path + filepath + \"image files/\"  + file)\n",
    "    elif \".txt\" in file and not  os.path.exists(path + \"text files/\"  + file):\n",
    "        shutil.move(path + filepath + \"text files/\"  + file)\n",
    "    else:\n",
    "        print(\"There were files in this path that were not moved\")"
   ]
  },
  {
   "cell_type": "code",
   "execution_count": 49,
   "id": "fe682d2d-607c-427c-9583-a7f6fd3dff29",
   "metadata": {},
   "outputs": [
    {
     "name": "stdout",
     "output_type": "stream",
     "text": [
      "There were files in this path that were not moved\n",
      "There were files in this path that were not moved\n",
      "There were files in this path that were not moved\n",
      "There were files in this path that were not moved\n",
      "There were files in this path that were not moved\n",
      "There were files in this path that were not moved\n"
     ]
    }
   ],
   "source": []
  },
  {
   "cell_type": "code",
   "execution_count": null,
   "id": "ada43d23-b556-45ae-91be-a3ecf0ba1ab0",
   "metadata": {},
   "outputs": [],
   "source": []
  },
  {
   "cell_type": "code",
   "execution_count": null,
   "id": "19c89963-9503-45fc-9cd4-a4043866d6a8",
   "metadata": {},
   "outputs": [],
   "source": []
  },
  {
   "cell_type": "code",
   "execution_count": null,
   "id": "3c598483-7a03-4a4b-b0df-6dd3dcca1722",
   "metadata": {},
   "outputs": [],
   "source": []
  },
  {
   "cell_type": "code",
   "execution_count": null,
   "id": "7dc45f48-6237-474c-8af9-ee7f53cdf560",
   "metadata": {},
   "outputs": [],
   "source": []
  },
  {
   "cell_type": "code",
   "execution_count": null,
   "id": "3e804644-ef2d-4643-8c68-b767034661e9",
   "metadata": {},
   "outputs": [],
   "source": []
  },
  {
   "cell_type": "code",
   "execution_count": null,
   "id": "1aa90953-9c18-4e03-b5e1-3df79f7b541b",
   "metadata": {},
   "outputs": [],
   "source": []
  },
  {
   "cell_type": "code",
   "execution_count": null,
   "id": "4964a76b-5526-4b26-bc8a-98bb435b0d5a",
   "metadata": {},
   "outputs": [],
   "source": []
  },
  {
   "cell_type": "code",
   "execution_count": null,
   "id": "ba437a70-063d-4a03-98ed-50a8842b5b92",
   "metadata": {},
   "outputs": [],
   "source": []
  },
  {
   "cell_type": "code",
   "execution_count": null,
   "id": "eea65088-af20-4e2f-a5af-404c6d1bd4ad",
   "metadata": {},
   "outputs": [],
   "source": []
  },
  {
   "cell_type": "code",
   "execution_count": null,
   "id": "f5ca5f74-d782-486f-849b-5d03e10c47f8",
   "metadata": {},
   "outputs": [],
   "source": []
  },
  {
   "cell_type": "code",
   "execution_count": null,
   "id": "a1273ad8-7059-4337-9062-aeee1118369f",
   "metadata": {},
   "outputs": [],
   "source": []
  },
  {
   "cell_type": "code",
   "execution_count": null,
   "id": "ffbb099f-565f-4762-85c0-b807a4518752",
   "metadata": {},
   "outputs": [],
   "source": []
  },
  {
   "cell_type": "code",
   "execution_count": null,
   "id": "dce7b0fa-5f94-4b6b-8edd-e7e3fad6581d",
   "metadata": {},
   "outputs": [],
   "source": []
  },
  {
   "cell_type": "code",
   "execution_count": null,
   "id": "cdfa590d-9f7f-40c8-a6d6-998e64435509",
   "metadata": {},
   "outputs": [],
   "source": []
  },
  {
   "cell_type": "code",
   "execution_count": null,
   "id": "6ddaa716-e91f-46a3-ab49-269b0ec86548",
   "metadata": {},
   "outputs": [],
   "source": []
  },
  {
   "cell_type": "code",
   "execution_count": null,
   "id": "d21fb701-6ffa-4771-b85a-649971ef77db",
   "metadata": {},
   "outputs": [],
   "source": []
  },
  {
   "cell_type": "code",
   "execution_count": null,
   "id": "24d188b3-403f-4e1d-8ec5-30cf07e9af99",
   "metadata": {},
   "outputs": [],
   "source": []
  },
  {
   "cell_type": "code",
   "execution_count": null,
   "id": "098c744e-86d0-48eb-85ea-0382f1c7e01d",
   "metadata": {},
   "outputs": [],
   "source": []
  },
  {
   "cell_type": "code",
   "execution_count": null,
   "id": "94356e0c-9db3-4a5f-af68-dff844809a14",
   "metadata": {},
   "outputs": [],
   "source": []
  }
 ],
 "metadata": {
  "kernelspec": {
   "display_name": "Python 3 (ipykernel)",
   "language": "python",
   "name": "python3"
  },
  "language_info": {
   "codemirror_mode": {
    "name": "ipython",
    "version": 3
   },
   "file_extension": ".py",
   "mimetype": "text/x-python",
   "name": "python",
   "nbconvert_exporter": "python",
   "pygments_lexer": "ipython3",
   "version": "3.11.7"
  }
 },
 "nbformat": 4,
 "nbformat_minor": 5
}
