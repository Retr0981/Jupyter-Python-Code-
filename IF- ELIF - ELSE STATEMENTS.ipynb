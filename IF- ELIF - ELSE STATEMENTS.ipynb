{
 "cells": [
  {
   "cell_type": "markdown",
   "id": "6de88992-24df-43ec-9bc2-bea3db5a44c7",
   "metadata": {},
   "source": [
    "# IF- ELIF - ELSE STATEMENTS"
   ]
  },
  {
   "cell_type": "code",
   "execution_count": 3,
   "id": "c85d0e1b-d83c-449c-8e89-87c0cad89efb",
   "metadata": {},
   "outputs": [
    {
     "name": "stdout",
     "output_type": "stream",
     "text": [
      "it worked!\n"
     ]
    }
   ],
   "source": [
    "if  25 > 10:\n",
    "   print('it worked!')"
   ]
  },
  {
   "cell_type": "code",
   "execution_count": 4,
   "id": "f87470ea-6edd-4d55-bfc0-59b8d11a98a1",
   "metadata": {},
   "outputs": [],
   "source": [
    "if  25 <  10:\n",
    "   print('it worked!')"
   ]
  },
  {
   "cell_type": "code",
   "execution_count": 6,
   "id": "c645b541-cc1e-40ef-afee-da1345244a23",
   "metadata": {},
   "outputs": [
    {
     "name": "stdout",
     "output_type": "stream",
     "text": [
      "It did not work!\n"
     ]
    }
   ],
   "source": [
    "if  25 <  10:\n",
    "   print('it worked!')\n",
    "else:\n",
    "    print('It did not work!')"
   ]
  },
  {
   "cell_type": "code",
   "execution_count": 9,
   "id": "e1b5241c-bddb-413c-adaa-ae6f07ac38ad",
   "metadata": {},
   "outputs": [
    {
     "name": "stdout",
     "output_type": "stream",
     "text": [
      "it worked!\n"
     ]
    }
   ],
   "source": [
    "if  25 > 10:\n",
    "   print('it worked!')\n",
    "else:\n",
    "    print('It did not work!')"
   ]
  },
  {
   "cell_type": "code",
   "execution_count": 27,
   "id": "e3269679-e71b-45bd-915d-ba99d1401c45",
   "metadata": {},
   "outputs": [
    {
     "name": "stdout",
     "output_type": "stream",
     "text": [
      "it worked!\n",
      "This nested if statement worked!\n"
     ]
    }
   ],
   "source": [
    "if (25 < 10) or (1 < 3):\n",
    "    print('it worked!')\n",
    "if 10  > 5:\n",
    "     print('This nested if statement worked!')\n",
    "elif 25 < 20:\n",
    "       print('elif worked!')\n",
    "elif 25 < 21:\n",
    "       print('elif 2 worked!')\n",
    "elif 25 < 40:\n",
    "       print('elif 3 worked!')\n",
    "elif 25 < 50:\n",
    "       print('elif 4 worked!')\n",
    "else:\n",
    "    print('It did not work!')"
   ]
  },
  {
   "cell_type": "code",
   "execution_count": null,
   "id": "43e8d7f8-2a8d-40de-9f5e-9baca6147178",
   "metadata": {},
   "outputs": [],
   "source": []
  },
  {
   "cell_type": "code",
   "execution_count": null,
   "id": "c3b8a0be-524a-4474-9d8f-1451c74fd546",
   "metadata": {},
   "outputs": [],
   "source": []
  },
  {
   "cell_type": "code",
   "execution_count": null,
   "id": "75b6709d-d2dc-4095-9f74-55f91f99740b",
   "metadata": {},
   "outputs": [],
   "source": []
  }
 ],
 "metadata": {
  "kernelspec": {
   "display_name": "Python 3 (ipykernel)",
   "language": "python",
   "name": "python3"
  },
  "language_info": {
   "codemirror_mode": {
    "name": "ipython",
    "version": 3
   },
   "file_extension": ".py",
   "mimetype": "text/x-python",
   "name": "python",
   "nbconvert_exporter": "python",
   "pygments_lexer": "ipython3",
   "version": "3.11.7"
  }
 },
 "nbformat": 4,
 "nbformat_minor": 5
}
