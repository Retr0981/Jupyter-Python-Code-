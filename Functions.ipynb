{
 "cells": [
  {
   "cell_type": "markdown",
   "id": "3106f098-9d8e-4983-91ba-2757ad9e6fbe",
   "metadata": {},
   "source": [
    "# Functions"
   ]
  },
  {
   "cell_type": "code",
   "execution_count": 1,
   "id": "18787702-8a55-44d2-82f1-33aef9c6ac68",
   "metadata": {},
   "outputs": [],
   "source": [
    "def first_function():\n",
    "    print('We did it!')"
   ]
  },
  {
   "cell_type": "code",
   "execution_count": 2,
   "id": "d414a1c7-01e2-473d-9dd6-8a4a3ba14784",
   "metadata": {},
   "outputs": [
    {
     "name": "stdout",
     "output_type": "stream",
     "text": [
      "We did it!\n"
     ]
    }
   ],
   "source": [
    "first_function()"
   ]
  },
  {
   "cell_type": "code",
   "execution_count": 4,
   "id": "541f430e-91bf-45e6-9527-1c410b4c0b1c",
   "metadata": {},
   "outputs": [],
   "source": [
    "def number_squared(number):\n",
    "    print(number**2)"
   ]
  },
  {
   "cell_type": "code",
   "execution_count": 7,
   "id": "b97d300c-54b4-47d6-8f07-9a60662f1555",
   "metadata": {},
   "outputs": [
    {
     "name": "stdout",
     "output_type": "stream",
     "text": [
      "16\n",
      "25\n",
      "36\n",
      "64\n",
      "81\n",
      "100\n",
      "121\n",
      "144\n",
      "289\n"
     ]
    }
   ],
   "source": [
    "number_squared(4)\n",
    "number_squared(5)\n",
    "number_squared(6)\n",
    "number_squared(8)\n",
    "number_squared(9)\n",
    "number_squared(10)\n",
    "number_squared(11)\n",
    "number_squared(12)\n",
    "number_squared(17)"
   ]
  },
  {
   "cell_type": "code",
   "execution_count": 9,
   "id": "f94e49ba-a969-4e4e-9c06-bdda4393b90c",
   "metadata": {},
   "outputs": [],
   "source": [
    "def number_squared_cust(number,power):\n",
    "    print(number**power)"
   ]
  },
  {
   "cell_type": "code",
   "execution_count": 10,
   "id": "8653cc19-217b-4b30-9d91-2b894717c5c0",
   "metadata": {},
   "outputs": [
    {
     "name": "stdout",
     "output_type": "stream",
     "text": [
      "3125\n"
     ]
    }
   ],
   "source": [
    "number_squared_cust(5,5)"
   ]
  },
  {
   "cell_type": "code",
   "execution_count": 12,
   "id": "a159ee6d-9663-47e1-b0d1-85a1ee902102",
   "metadata": {},
   "outputs": [
    {
     "name": "stdout",
     "output_type": "stream",
     "text": [
      "65536\n",
      "15625\n",
      "7776\n",
      "32768\n",
      "59049\n",
      "100000\n",
      "161051\n",
      "248832\n",
      "1419857\n"
     ]
    }
   ],
   "source": [
    "number_squared_cust(4,8)\n",
    "number_squared_cust(5,6)\n",
    "number_squared_cust(6,5)\n",
    "number_squared_cust(8,5)\n",
    "number_squared_cust(9,5)\n",
    "number_squared_cust(10,5)\n",
    "number_squared_cust(11,5)\n",
    "number_squared_cust(12,5)\n",
    "number_squared_cust(17,5)"
   ]
  },
  {
   "cell_type": "code",
   "execution_count": null,
   "id": "543cd917-5fa5-4658-9792-6510257be7b3",
   "metadata": {},
   "outputs": [],
   "source": []
  },
  {
   "cell_type": "code",
   "execution_count": 14,
   "id": "951082dd-1bac-420b-ab4f-2c839cd39bce",
   "metadata": {},
   "outputs": [],
   "source": [
    "def number_args(*number):\n",
    "    print(number[0]*number[1])"
   ]
  },
  {
   "cell_type": "code",
   "execution_count": 15,
   "id": "22ec669d-a31e-409c-b8ea-c0e46ea81d66",
   "metadata": {},
   "outputs": [
    {
     "name": "stdout",
     "output_type": "stream",
     "text": [
      "35\n"
     ]
    }
   ],
   "source": [
    "number_args(5,7,8,9,2)"
   ]
  },
  {
   "cell_type": "code",
   "execution_count": 29,
   "id": "33ca70db-5558-4810-8a3f-f7554e8509b1",
   "metadata": {},
   "outputs": [],
   "source": [
    "args_tuple = (5,7,1,3,2)\n",
    "\n",
    "def number_args2(*number):\n",
    "    print(number[0]*number[1])"
   ]
  },
  {
   "cell_type": "code",
   "execution_count": 31,
   "id": "a0ba8c43-4e07-4d40-8a50-bbf61c7ab911",
   "metadata": {},
   "outputs": [
    {
     "name": "stdout",
     "output_type": "stream",
     "text": [
      "35\n"
     ]
    }
   ],
   "source": [
    "number_args2(*args_tuple)"
   ]
  },
  {
   "cell_type": "code",
   "execution_count": null,
   "id": "0ed86e97-1eb0-4a9d-bd55-d90a38d42233",
   "metadata": {},
   "outputs": [],
   "source": []
  },
  {
   "cell_type": "code",
   "execution_count": 34,
   "id": "a5f9503f-f0fc-4f96-a8bb-fccbd908f6e7",
   "metadata": {},
   "outputs": [],
   "source": [
    "def number_kwarg(**number):\n",
    "    print('My number is:  ' + number['integer'] +  '  My other number:  '  + number['integer'])"
   ]
  },
  {
   "cell_type": "code",
   "execution_count": 35,
   "id": "77ef1b1f-659a-4d4a-b4af-21efac9d65cb",
   "metadata": {},
   "outputs": [
    {
     "name": "stdout",
     "output_type": "stream",
     "text": [
      "My number is:  2309  My other number:  2309\n"
     ]
    }
   ],
   "source": [
    "number_kwarg(integer='2309' , integer2='2478')"
   ]
  },
  {
   "cell_type": "code",
   "execution_count": null,
   "id": "c5641eef-3a73-4be0-b43e-235e60f9d363",
   "metadata": {},
   "outputs": [],
   "source": []
  },
  {
   "cell_type": "code",
   "execution_count": null,
   "id": "5e5612eb-a791-449a-8345-9fa99b998c76",
   "metadata": {},
   "outputs": [],
   "source": []
  },
  {
   "cell_type": "code",
   "execution_count": null,
   "id": "f31e3f9c-8bc7-4aa6-9e84-ca8e209a8115",
   "metadata": {},
   "outputs": [],
   "source": []
  },
  {
   "cell_type": "code",
   "execution_count": null,
   "id": "6f1d45c4-30f5-4bfd-bf21-d0fb2b7e0183",
   "metadata": {},
   "outputs": [],
   "source": []
  },
  {
   "cell_type": "code",
   "execution_count": null,
   "id": "f4542059-6c17-4b19-a57e-f0aa8e13c324",
   "metadata": {},
   "outputs": [],
   "source": []
  },
  {
   "cell_type": "code",
   "execution_count": null,
   "id": "fdc5325f-7069-4e93-8baf-c1751af73e14",
   "metadata": {},
   "outputs": [],
   "source": []
  },
  {
   "cell_type": "code",
   "execution_count": null,
   "id": "96a07d30-0508-4ca8-8f79-d42f141669db",
   "metadata": {},
   "outputs": [],
   "source": []
  },
  {
   "cell_type": "code",
   "execution_count": null,
   "id": "380bed80-375f-4bae-b286-baf728f0d083",
   "metadata": {},
   "outputs": [],
   "source": []
  },
  {
   "cell_type": "code",
   "execution_count": null,
   "id": "20da21cd-1ed4-4cd0-8f3b-e4291d4c7581",
   "metadata": {},
   "outputs": [],
   "source": []
  },
  {
   "cell_type": "code",
   "execution_count": null,
   "id": "51e02efb-716f-4bd8-9e5f-580f2bca57f1",
   "metadata": {},
   "outputs": [],
   "source": []
  },
  {
   "cell_type": "code",
   "execution_count": null,
   "id": "f5907796-a4b9-4279-8124-b5f08884a37b",
   "metadata": {},
   "outputs": [],
   "source": []
  },
  {
   "cell_type": "code",
   "execution_count": null,
   "id": "8bb03e9e-2bdf-4c30-93e7-b1e1ef0ccd83",
   "metadata": {},
   "outputs": [],
   "source": []
  },
  {
   "cell_type": "code",
   "execution_count": null,
   "id": "342802fc-de51-442d-a495-f80abc32548b",
   "metadata": {},
   "outputs": [],
   "source": []
  },
  {
   "cell_type": "code",
   "execution_count": null,
   "id": "58f2a9ae-be96-4c8f-abe0-8aad469441d5",
   "metadata": {},
   "outputs": [],
   "source": []
  },
  {
   "cell_type": "code",
   "execution_count": null,
   "id": "52e9cfca-1f95-4990-845b-a9c0436db080",
   "metadata": {},
   "outputs": [],
   "source": []
  },
  {
   "cell_type": "code",
   "execution_count": null,
   "id": "92aa1f22-336f-493d-9378-0ac841b08074",
   "metadata": {},
   "outputs": [],
   "source": []
  },
  {
   "cell_type": "code",
   "execution_count": null,
   "id": "be75c4d7-4986-47d4-a0f0-098faa84cea9",
   "metadata": {},
   "outputs": [],
   "source": []
  },
  {
   "cell_type": "code",
   "execution_count": null,
   "id": "b5c4a2fe-06e2-4b29-b271-294b6861aa8a",
   "metadata": {},
   "outputs": [],
   "source": []
  },
  {
   "cell_type": "code",
   "execution_count": null,
   "id": "965b4726-2728-4dcf-bd47-aaf7c52758f7",
   "metadata": {},
   "outputs": [],
   "source": []
  },
  {
   "cell_type": "code",
   "execution_count": null,
   "id": "a7df9b19-a202-40eb-83df-b60ae04e4e6b",
   "metadata": {},
   "outputs": [],
   "source": []
  },
  {
   "cell_type": "code",
   "execution_count": null,
   "id": "f2a288b4-4ffd-45e8-a2e4-486a7740a97c",
   "metadata": {},
   "outputs": [],
   "source": []
  },
  {
   "cell_type": "code",
   "execution_count": null,
   "id": "a7e1a17f-44c6-4371-af7c-02468ef07662",
   "metadata": {},
   "outputs": [],
   "source": []
  },
  {
   "cell_type": "code",
   "execution_count": null,
   "id": "98c6b957-3ed4-4dcb-8c50-d1da45ab4ff9",
   "metadata": {},
   "outputs": [],
   "source": []
  }
 ],
 "metadata": {
  "kernelspec": {
   "display_name": "Python 3 (ipykernel)",
   "language": "python",
   "name": "python3"
  },
  "language_info": {
   "codemirror_mode": {
    "name": "ipython",
    "version": 3
   },
   "file_extension": ".py",
   "mimetype": "text/x-python",
   "name": "python",
   "nbconvert_exporter": "python",
   "pygments_lexer": "ipython3",
   "version": "3.11.7"
  }
 },
 "nbformat": 4,
 "nbformat_minor": 5
}
