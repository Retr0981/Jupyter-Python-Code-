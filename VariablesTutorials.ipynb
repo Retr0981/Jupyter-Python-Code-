{
 "cells": [
  {
   "cell_type": "code",
   "execution_count": 1,
   "id": "067c29c9-cd59-4965-a098-de21b2b99f05",
   "metadata": {},
   "outputs": [
    {
     "name": "stdout",
     "output_type": "stream",
     "text": [
      "22\n"
     ]
    }
   ],
   "source": [
    "x = 22\n",
    "print(x)"
   ]
  },
  {
   "cell_type": "code",
   "execution_count": 2,
   "id": "c730fe3d-8925-4af1-abe3-6da91f73747b",
   "metadata": {},
   "outputs": [
    {
     "data": {
      "text/plain": [
       "int"
      ]
     },
     "execution_count": 2,
     "metadata": {},
     "output_type": "execute_result"
    }
   ],
   "source": [
    "type(x)"
   ]
  },
  {
   "cell_type": "code",
   "execution_count": 3,
   "id": "40883a12-697b-46b4-91b8-65ace065d3af",
   "metadata": {},
   "outputs": [
    {
     "name": "stdout",
     "output_type": "stream",
     "text": [
      "Mint Chocolate Chip\n"
     ]
    }
   ],
   "source": [
    "y = 'Mint Chocolate Chip'\n",
    "print(y)"
   ]
  },
  {
   "cell_type": "code",
   "execution_count": 4,
   "id": "ba0a2bc2-ba00-4c85-a1a9-da36ea99332b",
   "metadata": {},
   "outputs": [
    {
     "data": {
      "text/plain": [
       "str"
      ]
     },
     "execution_count": 4,
     "metadata": {},
     "output_type": "execute_result"
    }
   ],
   "source": [
    "type(y)"
   ]
  },
  {
   "cell_type": "code",
   "execution_count": 8,
   "id": "60c90647-4e76-43ec-a642-c7f3e4bf4cbd",
   "metadata": {},
   "outputs": [
    {
     "name": "stdout",
     "output_type": "stream",
     "text": [
      "Chocolate\n"
     ]
    }
   ],
   "source": [
    "y = 'Chocolate'\n",
    "\n",
    "Y = 'Mint Chocolate Chip'\n",
    "\n",
    "print(y)"
   ]
  },
  {
   "cell_type": "code",
   "execution_count": 9,
   "id": "7683dc2f-5e2d-491a-95e6-b83bec652c99",
   "metadata": {},
   "outputs": [
    {
     "name": "stdout",
     "output_type": "stream",
     "text": [
      "Chocolate\n",
      "Vanilla\n",
      "Rocky Road\n"
     ]
    }
   ],
   "source": [
    "x,y,z = 'Chocolate',  'Vanilla', 'Rocky Road'\n",
    "\n",
    "print(x)\n",
    "print(y)\n",
    "print(z)"
   ]
  },
  {
   "cell_type": "code",
   "execution_count": 10,
   "id": "a456f805-0eff-49b0-8889-de76fcddf66c",
   "metadata": {},
   "outputs": [
    {
     "name": "stdout",
     "output_type": "stream",
     "text": [
      "Root Beer Float\n",
      "Root Beer Float\n",
      "Root Beer Float\n"
     ]
    }
   ],
   "source": [
    "x = y = z = 'Root Beer Float'\n",
    "\n",
    "\n",
    "print(x)\n",
    "print(y)\n",
    "print(z)"
   ]
  },
  {
   "cell_type": "code",
   "execution_count": 13,
   "id": "d03acce4-ed53-431c-a3ef-ebef84e7c139",
   "metadata": {},
   "outputs": [
    {
     "name": "stdout",
     "output_type": "stream",
     "text": [
      "Chocolate\n",
      "Vanilla\n",
      "Rocky Road\n"
     ]
    }
   ],
   "source": [
    "ice_cream = ['Chocolate',  'Vanilla', 'Rocky Road']\n",
    "\n",
    "x,y,z = ice_cream\n",
    "\n",
    "\n",
    "print(x)\n",
    "print(y)\n",
    "print(z)\n"
   ]
  },
  {
   "cell_type": "code",
   "execution_count": 14,
   "id": "3dcf4fc5-3c65-4a63-92fc-5aeba81f9856",
   "metadata": {},
   "outputs": [],
   "source": [
    "# Camel Case \n",
    "\n",
    "# Test Variable Case \n",
    "\n",
    "testVariableCase = \"Vanilla Swirl\"\n",
    "\n"
   ]
  },
  {
   "cell_type": "code",
   "execution_count": 15,
   "id": "a1a59624-13a6-45e4-a256-de19db39cb53",
   "metadata": {},
   "outputs": [],
   "source": [
    "# Pascal  Case \n",
    "\n",
    "# Test Variable Case \n",
    "\n",
    "TestVariableCase = \"Vanilla Swirl\"\n"
   ]
  },
  {
   "cell_type": "code",
   "execution_count": 21,
   "id": "fa2f564b-ce49-4212-8dc6-c31500f6c841",
   "metadata": {},
   "outputs": [],
   "source": [
    "# Snake  Case \n",
    "\n",
    "# Test Variable Case \n",
    "\n",
    "\n",
    "testvar = \"Vanilla Swirl\"\n",
    "test_var = \"Vanilla Swirl\"\n",
    "_test_var = \"Vanilla Swirl\"\n",
    "TestVar = \"Vanilla Swirl\"\n",
    "testVar = \"Vanilla Swirl\"\n",
    "Test_var2 = \"Vanilla Swirl\"\n",
    "\n"
   ]
  },
  {
   "cell_type": "code",
   "execution_count": null,
   "id": "4faa1f8c-e1a6-47e5-b95e-c52db70dbc2d",
   "metadata": {},
   "outputs": [],
   "source": [
    "2testVar = \"Vanilla Swirl\"\n",
    "test-Var2 = \"Vanilla Swirl\"\n"
   ]
  },
  {
   "cell_type": "code",
   "execution_count": 22,
   "id": "116dfef3-6ce5-4ac9-bab2-7bd8808054bf",
   "metadata": {},
   "outputs": [
    {
     "name": "stdout",
     "output_type": "stream",
     "text": [
      "Ice Cream is my favorite.\n"
     ]
    }
   ],
   "source": [
    "x= 'Ice Cream is my favorite' + '.'\n",
    "print(x)"
   ]
  },
  {
   "cell_type": "code",
   "execution_count": 24,
   "id": "ee1d6314-ddfc-4712-9cad-0ee200f27f5e",
   "metadata": {},
   "outputs": [
    {
     "name": "stdout",
     "output_type": "stream",
     "text": [
      "5\n"
     ]
    }
   ],
   "source": [
    "y = 3 + 2 \n",
    "print(y)"
   ]
  },
  {
   "cell_type": "code",
   "execution_count": 26,
   "id": "1428031d-404f-4616-b9df-3cc66c3716fc",
   "metadata": {},
   "outputs": [
    {
     "name": "stdout",
     "output_type": "stream",
     "text": [
      "Ice Cream is my favorite.\n"
     ]
    }
   ],
   "source": [
    "x= 'Ice Cream' \n",
    "y = ' is'\n",
    "z = ' my favorite.'\n",
    "\n",
    "print (x + y + z)"
   ]
  },
  {
   "cell_type": "code",
   "execution_count": 27,
   "id": "178b82b5-238d-41f5-837c-1722bbac3913",
   "metadata": {},
   "outputs": [
    {
     "name": "stdout",
     "output_type": "stream",
     "text": [
      "6\n"
     ]
    }
   ],
   "source": [
    "x = 1\n",
    "y = 2\n",
    "z = 3\n",
    "\n",
    "print (x + y + z)"
   ]
  },
  {
   "cell_type": "code",
   "execution_count": 31,
   "id": "a83bbafb-0212-417d-9265-95beb9875c04",
   "metadata": {},
   "outputs": [
    {
     "name": "stdout",
     "output_type": "stream",
     "text": [
      "Ice Cream  2 \n"
     ]
    }
   ],
   "source": [
    "x= 'Ice Cream' \n",
    "y = ' 2 '\n",
    "\n",
    "print (x,y)"
   ]
  },
  {
   "cell_type": "code",
   "execution_count": null,
   "id": "1f11f777-cb5c-4b53-8efa-be10186382b7",
   "metadata": {},
   "outputs": [],
   "source": []
  }
 ],
 "metadata": {
  "kernelspec": {
   "display_name": "Python 3 (ipykernel)",
   "language": "python",
   "name": "python3"
  },
  "language_info": {
   "codemirror_mode": {
    "name": "ipython",
    "version": 3
   },
   "file_extension": ".py",
   "mimetype": "text/x-python",
   "name": "python",
   "nbconvert_exporter": "python",
   "pygments_lexer": "ipython3",
   "version": "3.11.7"
  }
 },
 "nbformat": 4,
 "nbformat_minor": 5
}
