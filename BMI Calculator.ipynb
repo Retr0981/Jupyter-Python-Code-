{
 "cells": [
  {
   "cell_type": "markdown",
   "id": "3098812b-0346-449a-9830-98afd35f623f",
   "metadata": {},
   "source": [
    "# BMI Calculator"
   ]
  },
  {
   "cell_type": "code",
   "execution_count": 16,
   "id": "94a9dc33-283f-48aa-aad0-77cab1917bcd",
   "metadata": {},
   "outputs": [
    {
     "name": "stdin",
     "output_type": "stream",
     "text": [
      "Enter your name Smart \n",
      "Enter your weight in pounds : 64\n",
      "Enter your height in inches : 2437\n"
     ]
    },
    {
     "name": "stdout",
     "output_type": "stream",
     "text": [
      "0.007575725685720872\n",
      "Smart , you are underweight.\n"
     ]
    }
   ],
   "source": [
    "name  = input(\"Enter your name\")\n",
    "weight = int(input(\"Enter your weight in pounds :\"))\n",
    "height = int(input(\"Enter your height in inches :\"))\n",
    "BMI = (weight  * 703)   / (height  * height)\n",
    "print(BMI)\n",
    "\n",
    "if BMI > 0:\n",
    "    if(BMI < 18.5):\n",
    "        print(name + \", you are underweight.\")\n",
    "    elif (BMI <= 24.9):\n",
    "        print(name + \", you are normal weight.\")\n",
    "    elif (BMI < 29.9):\n",
    "        print(name + \", you are overweight.\")\n",
    "    elif (BMI <  34.9):\n",
    "        print(name + \", you are obese.\")\n",
    "    elif (BMI <  39.9):\n",
    "        print(name + \", you are severely obese.\")\n",
    "    else:\n",
    "        print(name + \", you are morbidly obese\")\n",
    "else:\n",
    "    print(\"Enter valid points\")"
   ]
  },
  {
   "cell_type": "code",
   "execution_count": null,
   "id": "496b357d-8d86-4ad5-99d3-e13ed53fcf66",
   "metadata": {},
   "outputs": [],
   "source": []
  },
  {
   "cell_type": "code",
   "execution_count": null,
   "id": "720e9f7a-609b-4d6b-924e-c3a1401af9ba",
   "metadata": {},
   "outputs": [],
   "source": []
  },
  {
   "cell_type": "code",
   "execution_count": 15,
   "id": "5c23cbfb-1d81-4e7f-94b1-7b3dce42a463",
   "metadata": {},
   "outputs": [
    {
     "name": "stdout",
     "output_type": "stream",
     "text": [
      "David, you are morbidly obese\n"
     ]
    }
   ],
   "source": []
  },
  {
   "cell_type": "code",
   "execution_count": null,
   "id": "f0fa6a3e-6b02-4b47-82c9-0e2f1d926399",
   "metadata": {},
   "outputs": [],
   "source": []
  },
  {
   "cell_type": "code",
   "execution_count": null,
   "id": "b02df8bc-745e-474c-97ce-afbed3a86f43",
   "metadata": {},
   "outputs": [],
   "source": []
  },
  {
   "cell_type": "code",
   "execution_count": null,
   "id": "fc9847b2-3a88-4c5d-ad11-5902535f434c",
   "metadata": {},
   "outputs": [],
   "source": []
  },
  {
   "cell_type": "code",
   "execution_count": null,
   "id": "f92df870-b842-4dc6-a476-7abb77b2c05e",
   "metadata": {},
   "outputs": [],
   "source": []
  },
  {
   "cell_type": "code",
   "execution_count": null,
   "id": "a99be7af-4dc5-46e8-a1c6-484fab597a7c",
   "metadata": {},
   "outputs": [],
   "source": []
  },
  {
   "cell_type": "code",
   "execution_count": null,
   "id": "0fa974ad-2b33-40c6-a8cb-8a33e9d650c5",
   "metadata": {},
   "outputs": [],
   "source": []
  },
  {
   "cell_type": "code",
   "execution_count": null,
   "id": "9e80f868-564b-474f-aedb-c047b849c532",
   "metadata": {},
   "outputs": [],
   "source": []
  },
  {
   "cell_type": "code",
   "execution_count": null,
   "id": "f7e97786-8e1e-443d-bd00-e52e1cb90ec0",
   "metadata": {},
   "outputs": [],
   "source": []
  },
  {
   "cell_type": "code",
   "execution_count": null,
   "id": "3a62421b-6fd7-418c-85f8-0669cafc89ce",
   "metadata": {},
   "outputs": [],
   "source": []
  },
  {
   "cell_type": "code",
   "execution_count": null,
   "id": "cdb5a30b-887f-4af0-af34-d20799f52e3b",
   "metadata": {},
   "outputs": [],
   "source": []
  },
  {
   "cell_type": "code",
   "execution_count": null,
   "id": "7bf0025b-b2f3-4998-aefe-1cd6ca1d789e",
   "metadata": {},
   "outputs": [],
   "source": []
  },
  {
   "cell_type": "code",
   "execution_count": null,
   "id": "8b4bf301-0c75-488f-8030-3e482e459b63",
   "metadata": {},
   "outputs": [],
   "source": []
  },
  {
   "cell_type": "code",
   "execution_count": null,
   "id": "10e99815-fac4-41e5-91ae-a7baee10543e",
   "metadata": {},
   "outputs": [],
   "source": []
  },
  {
   "cell_type": "code",
   "execution_count": null,
   "id": "9d1d4f77-3a64-43b1-a5f7-e1229c8aaa56",
   "metadata": {},
   "outputs": [],
   "source": []
  },
  {
   "cell_type": "code",
   "execution_count": null,
   "id": "75af7686-8f63-4d75-b650-1b9c2cf4319a",
   "metadata": {},
   "outputs": [],
   "source": []
  },
  {
   "cell_type": "code",
   "execution_count": null,
   "id": "f43c8f48-6607-42a4-bbcf-f8a7463fa5c4",
   "metadata": {},
   "outputs": [],
   "source": []
  },
  {
   "cell_type": "code",
   "execution_count": null,
   "id": "20bbe40e-bc65-4ade-b12d-dcbd49d9e72d",
   "metadata": {},
   "outputs": [],
   "source": []
  },
  {
   "cell_type": "code",
   "execution_count": null,
   "id": "e3feec18-917a-4951-a400-623745294f2d",
   "metadata": {},
   "outputs": [],
   "source": []
  },
  {
   "cell_type": "code",
   "execution_count": null,
   "id": "dd5142a4-076b-454d-9b5b-6d8576e8d05f",
   "metadata": {},
   "outputs": [],
   "source": []
  }
 ],
 "metadata": {
  "kernelspec": {
   "display_name": "Python 3 (ipykernel)",
   "language": "python",
   "name": "python3"
  },
  "language_info": {
   "codemirror_mode": {
    "name": "ipython",
    "version": 3
   },
   "file_extension": ".py",
   "mimetype": "text/x-python",
   "name": "python",
   "nbconvert_exporter": "python",
   "pygments_lexer": "ipython3",
   "version": "3.11.7"
  }
 },
 "nbformat": 4,
 "nbformat_minor": 5
}
