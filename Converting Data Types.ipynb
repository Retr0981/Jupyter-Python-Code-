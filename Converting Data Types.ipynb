{
 "cells": [
  {
   "cell_type": "markdown",
   "id": "d583b381-d27a-490b-b824-09d1a9771279",
   "metadata": {},
   "source": [
    "# Converting Data Types"
   ]
  },
  {
   "cell_type": "code",
   "execution_count": 1,
   "id": "72826bbb-7487-46d3-a31b-6f4cac5a6c94",
   "metadata": {},
   "outputs": [
    {
     "data": {
      "text/plain": [
       "int"
      ]
     },
     "execution_count": 1,
     "metadata": {},
     "output_type": "execute_result"
    }
   ],
   "source": [
    "num_int = 7 \n",
    "\n",
    "type(num_int)"
   ]
  },
  {
   "cell_type": "code",
   "execution_count": 18,
   "id": "f23b60b0-e3f7-4d33-903c-ca6790a4fd5d",
   "metadata": {},
   "outputs": [
    {
     "name": "stdout",
     "output_type": "stream",
     "text": [
      "7\n"
     ]
    }
   ],
   "source": [
    "num_str = '7'\n",
    "type(num_str)\n",
    "print(num_str)"
   ]
  },
  {
   "cell_type": "code",
   "execution_count": 20,
   "id": "f5858336-69a1-488c-968b-a5bcc8724ef7",
   "metadata": {},
   "outputs": [],
   "source": [
    "nu_str_conv = int(num_str)"
   ]
  },
  {
   "cell_type": "code",
   "execution_count": 22,
   "id": "b23791ac-abdb-440e-88dd-068d08135b70",
   "metadata": {},
   "outputs": [],
   "source": [
    "num_sum = num_int + nu_str_conv"
   ]
  },
  {
   "cell_type": "code",
   "execution_count": 23,
   "id": "08f6d5b5-6789-498a-8749-f4d6fb371303",
   "metadata": {},
   "outputs": [
    {
     "name": "stdout",
     "output_type": "stream",
     "text": [
      "14\n"
     ]
    }
   ],
   "source": [
    "print(num_sum)"
   ]
  },
  {
   "cell_type": "code",
   "execution_count": null,
   "id": "79b16cba-2492-4528-9ceb-7b53a71dd3c8",
   "metadata": {},
   "outputs": [],
   "source": []
  },
  {
   "cell_type": "code",
   "execution_count": 25,
   "id": "549ca38d-6e85-4a31-8bf8-f14ebb3066f3",
   "metadata": {},
   "outputs": [
    {
     "data": {
      "text/plain": [
       "list"
      ]
     },
     "execution_count": 25,
     "metadata": {},
     "output_type": "execute_result"
    }
   ],
   "source": [
    "list_type = [1,2,3]\n",
    "type(list_type)"
   ]
  },
  {
   "cell_type": "code",
   "execution_count": 26,
   "id": "1d14fe28-b27c-43c6-8e33-d222a93fd03c",
   "metadata": {},
   "outputs": [
    {
     "data": {
      "text/plain": [
       "(1, 2, 3)"
      ]
     },
     "execution_count": 26,
     "metadata": {},
     "output_type": "execute_result"
    }
   ],
   "source": [
    "tuple(list_type)"
   ]
  },
  {
   "cell_type": "code",
   "execution_count": 27,
   "id": "d024b8d3-ea92-44ab-932b-0ff5c2b38c16",
   "metadata": {},
   "outputs": [
    {
     "data": {
      "text/plain": [
       "tuple"
      ]
     },
     "execution_count": 27,
     "metadata": {},
     "output_type": "execute_result"
    }
   ],
   "source": [
    "type(tuple(list_type))"
   ]
  },
  {
   "cell_type": "code",
   "execution_count": 28,
   "id": "a90d3cda-119c-4247-9d0e-596106d81081",
   "metadata": {},
   "outputs": [],
   "source": [
    "list_type = [1,2,3,5,6,7,8,9]\n"
   ]
  },
  {
   "cell_type": "code",
   "execution_count": 29,
   "id": "dcedb43f-2bf5-40d2-b167-db2a284831f9",
   "metadata": {},
   "outputs": [
    {
     "data": {
      "text/plain": [
       "{1, 2, 3, 5, 6, 7, 8, 9}"
      ]
     },
     "execution_count": 29,
     "metadata": {},
     "output_type": "execute_result"
    }
   ],
   "source": [
    "set(list_type)"
   ]
  },
  {
   "cell_type": "code",
   "execution_count": 31,
   "id": "4999b600-3584-4d4b-8cb7-8dde36356bea",
   "metadata": {},
   "outputs": [],
   "source": [
    "dict_type = {'name':'David','age':30, 'hair': 'N/A'}"
   ]
  },
  {
   "cell_type": "code",
   "execution_count": 32,
   "id": "146ab762-1fe2-4ceb-907a-3ca84b2f97cf",
   "metadata": {},
   "outputs": [
    {
     "data": {
      "text/plain": [
       "dict"
      ]
     },
     "execution_count": 32,
     "metadata": {},
     "output_type": "execute_result"
    }
   ],
   "source": [
    "type(dict_type)"
   ]
  },
  {
   "cell_type": "code",
   "execution_count": 33,
   "id": "22af8bf9-d5f9-4fbd-bad1-8213bc3561f0",
   "metadata": {},
   "outputs": [
    {
     "data": {
      "text/plain": [
       "dict_items([('name', 'David'), ('age', 30), ('hair', 'N/A')])"
      ]
     },
     "execution_count": 33,
     "metadata": {},
     "output_type": "execute_result"
    }
   ],
   "source": [
    "dict_type.items()"
   ]
  },
  {
   "cell_type": "code",
   "execution_count": 34,
   "id": "e7da42b0-4061-43f5-b849-8a8cff614af0",
   "metadata": {},
   "outputs": [
    {
     "data": {
      "text/plain": [
       "dict_values(['David', 30, 'N/A'])"
      ]
     },
     "execution_count": 34,
     "metadata": {},
     "output_type": "execute_result"
    }
   ],
   "source": [
    "dict_type.values()"
   ]
  },
  {
   "cell_type": "code",
   "execution_count": 36,
   "id": "9c2ffe11-d4bf-45f7-90de-6545030f9bef",
   "metadata": {},
   "outputs": [
    {
     "data": {
      "text/plain": [
       "dict_keys(['name', 'age', 'hair'])"
      ]
     },
     "execution_count": 36,
     "metadata": {},
     "output_type": "execute_result"
    }
   ],
   "source": [
    "dict_type.keys()"
   ]
  },
  {
   "cell_type": "code",
   "execution_count": 37,
   "id": "46aeb403-098d-433b-a8d6-6d93b66cb1c6",
   "metadata": {},
   "outputs": [
    {
     "data": {
      "text/plain": [
       "['name', 'age', 'hair']"
      ]
     },
     "execution_count": 37,
     "metadata": {},
     "output_type": "execute_result"
    }
   ],
   "source": [
    "list(dict_type.keys())"
   ]
  },
  {
   "cell_type": "code",
   "execution_count": 38,
   "id": "7c505d1e-ffd0-4354-9f68-6a604d378952",
   "metadata": {},
   "outputs": [
    {
     "data": {
      "text/plain": [
       "dict"
      ]
     },
     "execution_count": 38,
     "metadata": {},
     "output_type": "execute_result"
    }
   ],
   "source": [
    "type(dict_type)"
   ]
  },
  {
   "cell_type": "code",
   "execution_count": 39,
   "id": "99bb6fa4-5e65-4288-a3b3-b1cab3e11d1f",
   "metadata": {},
   "outputs": [
    {
     "data": {
      "text/plain": [
       "['David', 30, 'N/A']"
      ]
     },
     "execution_count": 39,
     "metadata": {},
     "output_type": "execute_result"
    }
   ],
   "source": [
    "list(dict_type.values())"
   ]
  },
  {
   "cell_type": "code",
   "execution_count": 40,
   "id": "ec9ac1f1-5db7-472a-8e90-023fc154e569",
   "metadata": {},
   "outputs": [],
   "source": [
    "long_str = \"I like to party\""
   ]
  },
  {
   "cell_type": "code",
   "execution_count": 41,
   "id": "b6ff2277-c8fd-447f-b95b-5edd2a309ac9",
   "metadata": {},
   "outputs": [
    {
     "data": {
      "text/plain": [
       "['I', ' ', 'l', 'i', 'k', 'e', ' ', 't', 'o', ' ', 'p', 'a', 'r', 't', 'y']"
      ]
     },
     "execution_count": 41,
     "metadata": {},
     "output_type": "execute_result"
    }
   ],
   "source": [
    "list(long_str)"
   ]
  },
  {
   "cell_type": "code",
   "execution_count": null,
   "id": "527306e1-32a2-44ba-b07e-ef34c51ab1ce",
   "metadata": {},
   "outputs": [],
   "source": []
  },
  {
   "cell_type": "code",
   "execution_count": null,
   "id": "983bece5-bba2-4880-9cd7-2c1301c385ac",
   "metadata": {},
   "outputs": [],
   "source": []
  },
  {
   "cell_type": "code",
   "execution_count": null,
   "id": "8e32ac89-a09f-4a41-9e72-0c1c0a978821",
   "metadata": {},
   "outputs": [],
   "source": []
  },
  {
   "cell_type": "code",
   "execution_count": null,
   "id": "9f6a8372-9f10-4485-95d1-e84c8f3533f0",
   "metadata": {},
   "outputs": [],
   "source": []
  },
  {
   "cell_type": "code",
   "execution_count": null,
   "id": "88f0ac55-ad4d-43d6-a00d-51ae3fc3e719",
   "metadata": {},
   "outputs": [],
   "source": []
  },
  {
   "cell_type": "code",
   "execution_count": null,
   "id": "b505e95d-c096-4c07-8f30-2bf5e017e322",
   "metadata": {},
   "outputs": [],
   "source": []
  },
  {
   "cell_type": "code",
   "execution_count": null,
   "id": "b0170588-dd89-4d37-9212-e9260ce18968",
   "metadata": {},
   "outputs": [],
   "source": []
  },
  {
   "cell_type": "code",
   "execution_count": null,
   "id": "fb1eab4b-0f4a-442c-9840-822412652fee",
   "metadata": {},
   "outputs": [],
   "source": []
  },
  {
   "cell_type": "code",
   "execution_count": null,
   "id": "0db7e20f-df7f-453d-8870-c51abefd305a",
   "metadata": {},
   "outputs": [],
   "source": []
  },
  {
   "cell_type": "code",
   "execution_count": null,
   "id": "71e0861f-296d-4502-90de-7353731d7097",
   "metadata": {},
   "outputs": [],
   "source": []
  },
  {
   "cell_type": "code",
   "execution_count": null,
   "id": "6f3f8038-4290-4c27-b489-99ddd4902592",
   "metadata": {},
   "outputs": [],
   "source": []
  },
  {
   "cell_type": "code",
   "execution_count": null,
   "id": "ea15cc67-afda-4401-954f-11c5fce9c753",
   "metadata": {},
   "outputs": [],
   "source": []
  },
  {
   "cell_type": "code",
   "execution_count": null,
   "id": "0696c368-d9d8-4c63-8ca7-b342b2e7bd6b",
   "metadata": {},
   "outputs": [],
   "source": []
  },
  {
   "cell_type": "code",
   "execution_count": null,
   "id": "f4408e92-2fe2-48a9-a540-314fc943ec32",
   "metadata": {},
   "outputs": [],
   "source": []
  },
  {
   "cell_type": "code",
   "execution_count": null,
   "id": "590989e3-ad3e-413a-bb10-119a7e161f79",
   "metadata": {},
   "outputs": [],
   "source": []
  },
  {
   "cell_type": "code",
   "execution_count": null,
   "id": "feb2c793-d459-4680-b8a3-0e4ef5515dfb",
   "metadata": {},
   "outputs": [],
   "source": []
  },
  {
   "cell_type": "code",
   "execution_count": null,
   "id": "fa01de1d-4442-4807-a071-1425a09f8cc0",
   "metadata": {},
   "outputs": [],
   "source": []
  }
 ],
 "metadata": {
  "kernelspec": {
   "display_name": "Python 3 (ipykernel)",
   "language": "python",
   "name": "python3"
  },
  "language_info": {
   "codemirror_mode": {
    "name": "ipython",
    "version": 3
   },
   "file_extension": ".py",
   "mimetype": "text/x-python",
   "name": "python",
   "nbconvert_exporter": "python",
   "pygments_lexer": "ipython3",
   "version": "3.11.7"
  }
 },
 "nbformat": 4,
 "nbformat_minor": 5
}
